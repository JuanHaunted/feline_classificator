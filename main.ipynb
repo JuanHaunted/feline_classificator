{
 "cells": [
  {
   "attachments": {},
   "cell_type": "markdown",
   "metadata": {},
   "source": [
    "# Feline Classification Project"
   ]
  },
  {
   "cell_type": "code",
   "execution_count": 4,
   "metadata": {},
   "outputs": [],
   "source": [
    "from duckduckgo_search import ddg_images\n",
    "from fastcore.all import *\n",
    "from fastdownload import download_url\n",
    "from fastai.vision.all import *\n",
    "from time import sleep"
   ]
  },
  {
   "attachments": {},
   "cell_type": "markdown",
   "metadata": {},
   "source": [
    "## Downloading the necesarry data and preparing it for the model"
   ]
  },
  {
   "cell_type": "code",
   "execution_count": 2,
   "metadata": {},
   "outputs": [],
   "source": [
    "def search_images(term, max_images=200):\n",
    "    return L(ddg_images(term, max_results=max_images)).itemgot('image')\n",
    "    #Return a list of urls for images given a term)"
   ]
  },
  {
   "attachments": {},
   "cell_type": "markdown",
   "metadata": {},
   "source": [
    "Lets check if out function is properly working"
   ]
  },
  {
   "cell_type": "code",
   "execution_count": 3,
   "metadata": {},
   "outputs": [
    {
     "data": {
      "text/plain": [
       "'https://www.rd.com/wp-content/uploads/2019/11/cheetah-1.jpg'"
      ]
     },
     "execution_count": 3,
     "metadata": {},
     "output_type": "execute_result"
    }
   ],
   "source": [
    "urls = search_images('Cheetah photos', max_images=1)\n",
    "urls[0] "
   ]
  },
  {
   "attachments": {},
   "cell_type": "markdown",
   "metadata": {},
   "source": [
    "Let's search and download images for some of the main feline species. "
   ]
  },
  {
   "cell_type": "code",
   "execution_count": null,
   "metadata": {},
   "outputs": [],
   "source": [
    "felines = 'lion', 'wildcat', 'cat', 'lynx', 'tiger', 'leopard', 'puma', 'cheetah', 'jaguar', 'panther', 'leopard'\n",
    "path = Path('Dataset/feline_family')\n",
    "\n",
    "for feline in felines:\n",
    "    dest = (path/feline)\n",
    "    dest.mkdir(exist_ok=True, parents=True)\n",
    "    download_images(dest, urls=search_images(f'{feline} photo', max_images=100))\n",
    "    sleep(10)\n",
    "    resize_images(path/feline, max_size=400, dest=path/feline)"
   ]
  }
 ],
 "metadata": {
  "kernelspec": {
   "display_name": "base",
   "language": "python",
   "name": "python3"
  },
  "language_info": {
   "codemirror_mode": {
    "name": "ipython",
    "version": 3
   },
   "file_extension": ".py",
   "mimetype": "text/x-python",
   "name": "python",
   "nbconvert_exporter": "python",
   "pygments_lexer": "ipython3",
   "version": "3.9.13"
  },
  "orig_nbformat": 4,
  "vscode": {
   "interpreter": {
    "hash": "e30fb292dfae0e16ea4fc45b7df9ea4422c969f4dfb650576ddf4a1141f47a7e"
   }
  }
 },
 "nbformat": 4,
 "nbformat_minor": 2
}
